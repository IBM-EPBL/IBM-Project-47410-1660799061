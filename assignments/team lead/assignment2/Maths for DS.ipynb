{
 "cells": [
  {
   "cell_type": "code",
   "execution_count": 1,
   "id": "e8a0b37f",
   "metadata": {},
   "outputs": [],
   "source": [
    "import numpy as np\n",
    "import pandas as pd\n",
    "import seaborn as sns"
   ]
  },
  {
   "cell_type": "code",
   "execution_count": 3,
   "id": "2054d005",
   "metadata": {},
   "outputs": [],
   "source": [
    "df = sns.load_dataset(\"tips\")"
   ]
  },
  {
   "cell_type": "code",
   "execution_count": 4,
   "id": "7e1fa4a1",
   "metadata": {},
   "outputs": [
    {
     "data": {
      "text/html": [
       "<div>\n",
       "<style scoped>\n",
       "    .dataframe tbody tr th:only-of-type {\n",
       "        vertical-align: middle;\n",
       "    }\n",
       "\n",
       "    .dataframe tbody tr th {\n",
       "        vertical-align: top;\n",
       "    }\n",
       "\n",
       "    .dataframe thead th {\n",
       "        text-align: right;\n",
       "    }\n",
       "</style>\n",
       "<table border=\"1\" class=\"dataframe\">\n",
       "  <thead>\n",
       "    <tr style=\"text-align: right;\">\n",
       "      <th></th>\n",
       "      <th>total_bill</th>\n",
       "      <th>tip</th>\n",
       "      <th>sex</th>\n",
       "      <th>smoker</th>\n",
       "      <th>day</th>\n",
       "      <th>time</th>\n",
       "      <th>size</th>\n",
       "    </tr>\n",
       "  </thead>\n",
       "  <tbody>\n",
       "    <tr>\n",
       "      <th>0</th>\n",
       "      <td>16.99</td>\n",
       "      <td>1.01</td>\n",
       "      <td>Female</td>\n",
       "      <td>No</td>\n",
       "      <td>Sun</td>\n",
       "      <td>Dinner</td>\n",
       "      <td>2</td>\n",
       "    </tr>\n",
       "    <tr>\n",
       "      <th>1</th>\n",
       "      <td>10.34</td>\n",
       "      <td>1.66</td>\n",
       "      <td>Male</td>\n",
       "      <td>No</td>\n",
       "      <td>Sun</td>\n",
       "      <td>Dinner</td>\n",
       "      <td>3</td>\n",
       "    </tr>\n",
       "    <tr>\n",
       "      <th>2</th>\n",
       "      <td>21.01</td>\n",
       "      <td>3.50</td>\n",
       "      <td>Male</td>\n",
       "      <td>No</td>\n",
       "      <td>Sun</td>\n",
       "      <td>Dinner</td>\n",
       "      <td>3</td>\n",
       "    </tr>\n",
       "    <tr>\n",
       "      <th>3</th>\n",
       "      <td>23.68</td>\n",
       "      <td>3.31</td>\n",
       "      <td>Male</td>\n",
       "      <td>No</td>\n",
       "      <td>Sun</td>\n",
       "      <td>Dinner</td>\n",
       "      <td>2</td>\n",
       "    </tr>\n",
       "    <tr>\n",
       "      <th>4</th>\n",
       "      <td>24.59</td>\n",
       "      <td>3.61</td>\n",
       "      <td>Female</td>\n",
       "      <td>No</td>\n",
       "      <td>Sun</td>\n",
       "      <td>Dinner</td>\n",
       "      <td>4</td>\n",
       "    </tr>\n",
       "  </tbody>\n",
       "</table>\n",
       "</div>"
      ],
      "text/plain": [
       "   total_bill   tip     sex smoker  day    time  size\n",
       "0       16.99  1.01  Female     No  Sun  Dinner     2\n",
       "1       10.34  1.66    Male     No  Sun  Dinner     3\n",
       "2       21.01  3.50    Male     No  Sun  Dinner     3\n",
       "3       23.68  3.31    Male     No  Sun  Dinner     2\n",
       "4       24.59  3.61  Female     No  Sun  Dinner     4"
      ]
     },
     "execution_count": 4,
     "metadata": {},
     "output_type": "execute_result"
    }
   ],
   "source": [
    "df.head()"
   ]
  },
  {
   "cell_type": "code",
   "execution_count": 5,
   "id": "bf1c80cf",
   "metadata": {},
   "outputs": [
    {
     "data": {
      "text/html": [
       "<div>\n",
       "<style scoped>\n",
       "    .dataframe tbody tr th:only-of-type {\n",
       "        vertical-align: middle;\n",
       "    }\n",
       "\n",
       "    .dataframe tbody tr th {\n",
       "        vertical-align: top;\n",
       "    }\n",
       "\n",
       "    .dataframe thead th {\n",
       "        text-align: right;\n",
       "    }\n",
       "</style>\n",
       "<table border=\"1\" class=\"dataframe\">\n",
       "  <thead>\n",
       "    <tr style=\"text-align: right;\">\n",
       "      <th></th>\n",
       "      <th>total_bill</th>\n",
       "      <th>tip</th>\n",
       "      <th>sex</th>\n",
       "      <th>smoker</th>\n",
       "      <th>day</th>\n",
       "      <th>time</th>\n",
       "      <th>size</th>\n",
       "    </tr>\n",
       "  </thead>\n",
       "  <tbody>\n",
       "    <tr>\n",
       "      <th>239</th>\n",
       "      <td>29.03</td>\n",
       "      <td>5.92</td>\n",
       "      <td>Male</td>\n",
       "      <td>No</td>\n",
       "      <td>Sat</td>\n",
       "      <td>Dinner</td>\n",
       "      <td>3</td>\n",
       "    </tr>\n",
       "    <tr>\n",
       "      <th>240</th>\n",
       "      <td>27.18</td>\n",
       "      <td>2.00</td>\n",
       "      <td>Female</td>\n",
       "      <td>Yes</td>\n",
       "      <td>Sat</td>\n",
       "      <td>Dinner</td>\n",
       "      <td>2</td>\n",
       "    </tr>\n",
       "    <tr>\n",
       "      <th>241</th>\n",
       "      <td>22.67</td>\n",
       "      <td>2.00</td>\n",
       "      <td>Male</td>\n",
       "      <td>Yes</td>\n",
       "      <td>Sat</td>\n",
       "      <td>Dinner</td>\n",
       "      <td>2</td>\n",
       "    </tr>\n",
       "    <tr>\n",
       "      <th>242</th>\n",
       "      <td>17.82</td>\n",
       "      <td>1.75</td>\n",
       "      <td>Male</td>\n",
       "      <td>No</td>\n",
       "      <td>Sat</td>\n",
       "      <td>Dinner</td>\n",
       "      <td>2</td>\n",
       "    </tr>\n",
       "    <tr>\n",
       "      <th>243</th>\n",
       "      <td>18.78</td>\n",
       "      <td>3.00</td>\n",
       "      <td>Female</td>\n",
       "      <td>No</td>\n",
       "      <td>Thur</td>\n",
       "      <td>Dinner</td>\n",
       "      <td>2</td>\n",
       "    </tr>\n",
       "  </tbody>\n",
       "</table>\n",
       "</div>"
      ],
      "text/plain": [
       "     total_bill   tip     sex smoker   day    time  size\n",
       "239       29.03  5.92    Male     No   Sat  Dinner     3\n",
       "240       27.18  2.00  Female    Yes   Sat  Dinner     2\n",
       "241       22.67  2.00    Male    Yes   Sat  Dinner     2\n",
       "242       17.82  1.75    Male     No   Sat  Dinner     2\n",
       "243       18.78  3.00  Female     No  Thur  Dinner     2"
      ]
     },
     "execution_count": 5,
     "metadata": {},
     "output_type": "execute_result"
    }
   ],
   "source": [
    "df.tail()"
   ]
  },
  {
   "cell_type": "markdown",
   "id": "484d5a92",
   "metadata": {},
   "source": [
    "# measure of central tendency"
   ]
  },
  {
   "cell_type": "code",
   "execution_count": 6,
   "id": "ba058be6",
   "metadata": {},
   "outputs": [
    {
     "name": "stderr",
     "output_type": "stream",
     "text": [
      "C:\\Users\\HP\\AppData\\Local\\Temp\\ipykernel_32\\3698961737.py:1: FutureWarning: Dropping of nuisance columns in DataFrame reductions (with 'numeric_only=None') is deprecated; in a future version this will raise TypeError.  Select only valid columns before calling the reduction.\n",
      "  df.mean()\n"
     ]
    },
    {
     "data": {
      "text/plain": [
       "total_bill    19.785943\n",
       "tip            2.998279\n",
       "size           2.569672\n",
       "dtype: float64"
      ]
     },
     "execution_count": 6,
     "metadata": {},
     "output_type": "execute_result"
    }
   ],
   "source": [
    "df.mean()"
   ]
  },
  {
   "cell_type": "code",
   "execution_count": 7,
   "id": "2b23a28b",
   "metadata": {},
   "outputs": [
    {
     "name": "stderr",
     "output_type": "stream",
     "text": [
      "C:\\Users\\HP\\AppData\\Local\\Temp\\ipykernel_32\\530051474.py:1: FutureWarning: Dropping of nuisance columns in DataFrame reductions (with 'numeric_only=None') is deprecated; in a future version this will raise TypeError.  Select only valid columns before calling the reduction.\n",
      "  df.median()\n"
     ]
    },
    {
     "data": {
      "text/plain": [
       "total_bill    17.795\n",
       "tip            2.900\n",
       "size           2.000\n",
       "dtype: float64"
      ]
     },
     "execution_count": 7,
     "metadata": {},
     "output_type": "execute_result"
    }
   ],
   "source": [
    "df.median()"
   ]
  },
  {
   "cell_type": "code",
   "execution_count": 8,
   "id": "418b3d21",
   "metadata": {},
   "outputs": [
    {
     "data": {
      "text/html": [
       "<div>\n",
       "<style scoped>\n",
       "    .dataframe tbody tr th:only-of-type {\n",
       "        vertical-align: middle;\n",
       "    }\n",
       "\n",
       "    .dataframe tbody tr th {\n",
       "        vertical-align: top;\n",
       "    }\n",
       "\n",
       "    .dataframe thead th {\n",
       "        text-align: right;\n",
       "    }\n",
       "</style>\n",
       "<table border=\"1\" class=\"dataframe\">\n",
       "  <thead>\n",
       "    <tr style=\"text-align: right;\">\n",
       "      <th></th>\n",
       "      <th>total_bill</th>\n",
       "      <th>tip</th>\n",
       "      <th>sex</th>\n",
       "      <th>smoker</th>\n",
       "      <th>day</th>\n",
       "      <th>time</th>\n",
       "      <th>size</th>\n",
       "    </tr>\n",
       "  </thead>\n",
       "  <tbody>\n",
       "    <tr>\n",
       "      <th>0</th>\n",
       "      <td>13.42</td>\n",
       "      <td>2.0</td>\n",
       "      <td>Male</td>\n",
       "      <td>No</td>\n",
       "      <td>Sat</td>\n",
       "      <td>Dinner</td>\n",
       "      <td>2</td>\n",
       "    </tr>\n",
       "  </tbody>\n",
       "</table>\n",
       "</div>"
      ],
      "text/plain": [
       "   total_bill  tip   sex smoker  day    time  size\n",
       "0       13.42  2.0  Male     No  Sat  Dinner     2"
      ]
     },
     "execution_count": 8,
     "metadata": {},
     "output_type": "execute_result"
    }
   ],
   "source": [
    "df.mode()"
   ]
  },
  {
   "cell_type": "code",
   "execution_count": 10,
   "id": "c6d1c7f6",
   "metadata": {},
   "outputs": [
    {
     "data": {
      "text/plain": [
       "0    Sat\n",
       "Name: day, dtype: category\n",
       "Categories (4, object): ['Thur', 'Fri', 'Sat', 'Sun']"
      ]
     },
     "execution_count": 10,
     "metadata": {},
     "output_type": "execute_result"
    }
   ],
   "source": [
    "df['day'].mode()"
   ]
  },
  {
   "cell_type": "code",
   "execution_count": 11,
   "id": "d30e174a",
   "metadata": {},
   "outputs": [
    {
     "name": "stderr",
     "output_type": "stream",
     "text": [
      "C:\\Users\\HP\\AppData\\Local\\Temp\\ipykernel_32\\1151452817.py:1: FutureWarning: Dropping of nuisance columns in DataFrame reductions (with 'numeric_only=None') is deprecated; in a future version this will raise TypeError.  Select only valid columns before calling the reduction.\n",
      "  df.max()\n"
     ]
    },
    {
     "data": {
      "text/plain": [
       "total_bill    50.81\n",
       "tip           10.00\n",
       "size           6.00\n",
       "dtype: float64"
      ]
     },
     "execution_count": 11,
     "metadata": {},
     "output_type": "execute_result"
    }
   ],
   "source": [
    "df.max()"
   ]
  },
  {
   "cell_type": "code",
   "execution_count": 15,
   "id": "2fd5f411",
   "metadata": {},
   "outputs": [
    {
     "name": "stderr",
     "output_type": "stream",
     "text": [
      "C:\\Users\\HP\\AppData\\Local\\Temp\\ipykernel_32\\2778376313.py:1: FutureWarning: Dropping of nuisance columns in DataFrame reductions (with 'numeric_only=None') is deprecated; in a future version this will raise TypeError.  Select only valid columns before calling the reduction.\n",
      "  ma = df.max()\n"
     ]
    }
   ],
   "source": [
    "ma = df.max()"
   ]
  },
  {
   "cell_type": "code",
   "execution_count": 16,
   "id": "08b1aea0",
   "metadata": {},
   "outputs": [
    {
     "data": {
      "text/plain": [
       "total_bill    50.81\n",
       "tip           10.00\n",
       "size           6.00\n",
       "dtype: float64"
      ]
     },
     "execution_count": 16,
     "metadata": {},
     "output_type": "execute_result"
    }
   ],
   "source": [
    "ma"
   ]
  },
  {
   "cell_type": "code",
   "execution_count": 12,
   "id": "acf7b7a3",
   "metadata": {},
   "outputs": [
    {
     "name": "stderr",
     "output_type": "stream",
     "text": [
      "C:\\Users\\HP\\AppData\\Local\\Temp\\ipykernel_32\\3962516015.py:1: FutureWarning: Dropping of nuisance columns in DataFrame reductions (with 'numeric_only=None') is deprecated; in a future version this will raise TypeError.  Select only valid columns before calling the reduction.\n",
      "  df.min()\n"
     ]
    },
    {
     "data": {
      "text/plain": [
       "total_bill    3.07\n",
       "tip           1.00\n",
       "size          1.00\n",
       "dtype: float64"
      ]
     },
     "execution_count": 12,
     "metadata": {},
     "output_type": "execute_result"
    }
   ],
   "source": [
    "df.min()"
   ]
  },
  {
   "cell_type": "code",
   "execution_count": 17,
   "id": "59f9721c",
   "metadata": {},
   "outputs": [
    {
     "name": "stderr",
     "output_type": "stream",
     "text": [
      "C:\\Users\\HP\\AppData\\Local\\Temp\\ipykernel_32\\726033815.py:1: FutureWarning: Dropping of nuisance columns in DataFrame reductions (with 'numeric_only=None') is deprecated; in a future version this will raise TypeError.  Select only valid columns before calling the reduction.\n",
      "  mi = df.min()\n"
     ]
    }
   ],
   "source": [
    "mi = df.min()"
   ]
  },
  {
   "cell_type": "code",
   "execution_count": 19,
   "id": "1e236dc1",
   "metadata": {},
   "outputs": [
    {
     "data": {
      "text/plain": [
       "total_bill    3.07\n",
       "tip           1.00\n",
       "size          1.00\n",
       "dtype: float64"
      ]
     },
     "execution_count": 19,
     "metadata": {},
     "output_type": "execute_result"
    }
   ],
   "source": [
    "mi"
   ]
  },
  {
   "cell_type": "code",
   "execution_count": 14,
   "id": "4ef06805",
   "metadata": {},
   "outputs": [
    {
     "name": "stderr",
     "output_type": "stream",
     "text": [
      "C:\\Users\\HP\\AppData\\Local\\Temp\\ipykernel_32\\1142134196.py:1: FutureWarning: Dropping of nuisance columns in DataFrame reductions (with 'numeric_only=None') is deprecated; in a future version this will raise TypeError.  Select only valid columns before calling the reduction.\n",
      "  ran = df.max() - df.min()\n"
     ]
    }
   ],
   "source": [
    "ran = df.max() - df.min()"
   ]
  },
  {
   "cell_type": "code",
   "execution_count": 18,
   "id": "aff758fa",
   "metadata": {},
   "outputs": [
    {
     "data": {
      "text/plain": [
       "total_bill    47.74\n",
       "tip            9.00\n",
       "size           5.00\n",
       "dtype: float64"
      ]
     },
     "execution_count": 18,
     "metadata": {},
     "output_type": "execute_result"
    }
   ],
   "source": [
    "ran"
   ]
  },
  {
   "cell_type": "code",
   "execution_count": 20,
   "id": "5726a001",
   "metadata": {},
   "outputs": [
    {
     "name": "stderr",
     "output_type": "stream",
     "text": [
      "C:\\Users\\HP\\AppData\\Local\\Temp\\ipykernel_32\\1665899112.py:1: FutureWarning: Dropping of nuisance columns in DataFrame reductions (with 'numeric_only=None') is deprecated; in a future version this will raise TypeError.  Select only valid columns before calling the reduction.\n",
      "  df.skew()\n"
     ]
    },
    {
     "data": {
      "text/plain": [
       "total_bill    1.133213\n",
       "tip           1.465451\n",
       "size          1.447882\n",
       "dtype: float64"
      ]
     },
     "execution_count": 20,
     "metadata": {},
     "output_type": "execute_result"
    }
   ],
   "source": [
    "df.skew()    # -0.5 to 0.5 - slightly skew  -1 to -0.5 or 1 to  0.5 moderately skewed ,  <-1 or <1 then it is heavly skewed"
   ]
  },
  {
   "cell_type": "code",
   "execution_count": 22,
   "id": "8408f649",
   "metadata": {},
   "outputs": [
    {
     "data": {
      "text/plain": [
       "<AxesSubplot:xlabel='total_bill', ylabel='Density'>"
      ]
     },
     "execution_count": 22,
     "metadata": {},
     "output_type": "execute_result"
    },
    {
     "data": {
      "image/png": "[encoded data removed]",
      "text/plain": [
       "<Figure size 432x288 with 1 Axes>"
      ]
     },
     "metadata": {
      "needs_background": "light"
     },
     "output_type": "display_data"
    }
   ],
   "source": [
    "sns.distplot(df['total_bill'])"
   ]
  },
  {
   "cell_type": "code",
   "execution_count": 24,
   "id": "fdf87202",
   "metadata": {},
   "outputs": [
    {
     "name": "stderr",
     "output_type": "stream",
     "text": [
      "C:\\Users\\HP\\AppData\\Local\\Temp\\ipykernel_32\\1257127604.py:1: FutureWarning: Dropping of nuisance columns in DataFrame reductions (with 'numeric_only=None') is deprecated; in a future version this will raise TypeError.  Select only valid columns before calling the reduction.\n",
      "  df.kurt()\n"
     ]
    },
    {
     "data": {
      "text/plain": [
       "total_bill    1.218484\n",
       "tip           3.648376\n",
       "size          1.731700\n",
       "dtype: float64"
      ]
     },
     "execution_count": 24,
     "metadata": {},
     "output_type": "execute_result"
    }
   ],
   "source": [
    "df.kurt()"
   ]
  },
  {
   "cell_type": "markdown",
   "id": "cffdb29d",
   "metadata": {},
   "source": [
    "## IQR"
   ]
  },
  {
   "cell_type": "code",
   "execution_count": 25,
   "id": "992c2bcf",
   "metadata": {},
   "outputs": [
    {
     "name": "stderr",
     "output_type": "stream",
     "text": [
      "C:\\Users\\HP\\anaconda3\\lib\\site-packages\\seaborn\\_decorators.py:36: FutureWarning: Pass the following variable as a keyword arg: x. From version 0.12, the only valid positional argument will be `data`, and passing other arguments without an explicit keyword will result in an error or misinterpretation.\n",
      "  warnings.warn(\n"
     ]
    },
    {
     "data": {
      "text/plain": [
       "<AxesSubplot:xlabel='total_bill'>"
      ]
     },
     "execution_count": 25,
     "metadata": {},
     "output_type": "execute_result"
    },
    {
     "data": {
      "image/png": "[encoded data removed]",
      "text/plain": [
       "<Figure size 432x288 with 1 Axes>"
      ]
     },
     "metadata": {
      "needs_background": "light"
     },
     "output_type": "display_data"
    }
   ],
   "source": [
    "sns.boxplot(df['total_bill'])"
   ]
  },
  {
   "cell_type": "code",
   "execution_count": 28,
   "id": "3351848e",
   "metadata": {},
   "outputs": [
    {
     "data": {
      "text/html": [
       "<div>\n",
       "<style scoped>\n",
       "    .dataframe tbody tr th:only-of-type {\n",
       "        vertical-align: middle;\n",
       "    }\n",
       "\n",
       "    .dataframe tbody tr th {\n",
       "        vertical-align: top;\n",
       "    }\n",
       "\n",
       "    .dataframe thead th {\n",
       "        text-align: right;\n",
       "    }\n",
       "</style>\n",
       "<table border=\"1\" class=\"dataframe\">\n",
       "  <thead>\n",
       "    <tr style=\"text-align: right;\">\n",
       "      <th></th>\n",
       "      <th>total_bill</th>\n",
       "      <th>tip</th>\n",
       "      <th>size</th>\n",
       "    </tr>\n",
       "  </thead>\n",
       "  <tbody>\n",
       "    <tr>\n",
       "      <th>count</th>\n",
       "      <td>244.000000</td>\n",
       "      <td>244.000000</td>\n",
       "      <td>244.000000</td>\n",
       "    </tr>\n",
       "    <tr>\n",
       "      <th>mean</th>\n",
       "      <td>19.785943</td>\n",
       "      <td>2.998279</td>\n",
       "      <td>2.569672</td>\n",
       "    </tr>\n",
       "    <tr>\n",
       "      <th>std</th>\n",
       "      <td>8.902412</td>\n",
       "      <td>1.383638</td>\n",
       "      <td>0.951100</td>\n",
       "    </tr>\n",
       "    <tr>\n",
       "      <th>min</th>\n",
       "      <td>3.070000</td>\n",
       "      <td>1.000000</td>\n",
       "      <td>1.000000</td>\n",
       "    </tr>\n",
       "    <tr>\n",
       "      <th>25%</th>\n",
       "      <td>13.347500</td>\n",
       "      <td>2.000000</td>\n",
       "      <td>2.000000</td>\n",
       "    </tr>\n",
       "    <tr>\n",
       "      <th>50%</th>\n",
       "      <td>17.795000</td>\n",
       "      <td>2.900000</td>\n",
       "      <td>2.000000</td>\n",
       "    </tr>\n",
       "    <tr>\n",
       "      <th>75%</th>\n",
       "      <td>24.127500</td>\n",
       "      <td>3.562500</td>\n",
       "      <td>3.000000</td>\n",
       "    </tr>\n",
       "    <tr>\n",
       "      <th>max</th>\n",
       "      <td>50.810000</td>\n",
       "      <td>10.000000</td>\n",
       "      <td>6.000000</td>\n",
       "    </tr>\n",
       "  </tbody>\n",
       "</table>\n",
       "</div>"
      ],
      "text/plain": [
       "       total_bill         tip        size\n",
       "count  244.000000  244.000000  244.000000\n",
       "mean    19.785943    2.998279    2.569672\n",
       "std      8.902412    1.383638    0.951100\n",
       "min      3.070000    1.000000    1.000000\n",
       "25%     13.347500    2.000000    2.000000\n",
       "50%     17.795000    2.900000    2.000000\n",
       "75%     24.127500    3.562500    3.000000\n",
       "max     50.810000   10.000000    6.000000"
      ]
     },
     "execution_count": 28,
     "metadata": {},
     "output_type": "execute_result"
    }
   ],
   "source": [
    "df.describe()"
   ]
  },
  {
   "cell_type": "code",
   "execution_count": 29,
   "id": "fce985d8",
   "metadata": {},
   "outputs": [],
   "source": [
    "q = df.quantile(q = [0.75,0.25])"
   ]
  },
  {
   "cell_type": "code",
   "execution_count": 30,
   "id": "05f36aae",
   "metadata": {},
   "outputs": [
    {
     "data": {
      "text/html": [
       "<div>\n",
       "<style scoped>\n",
       "    .dataframe tbody tr th:only-of-type {\n",
       "        vertical-align: middle;\n",
       "    }\n",
       "\n",
       "    .dataframe tbody tr th {\n",
       "        vertical-align: top;\n",
       "    }\n",
       "\n",
       "    .dataframe thead th {\n",
       "        text-align: right;\n",
       "    }\n",
       "</style>\n",
       "<table border=\"1\" class=\"dataframe\">\n",
       "  <thead>\n",
       "    <tr style=\"text-align: right;\">\n",
       "      <th></th>\n",
       "      <th>total_bill</th>\n",
       "      <th>tip</th>\n",
       "      <th>size</th>\n",
       "    </tr>\n",
       "  </thead>\n",
       "  <tbody>\n",
       "    <tr>\n",
       "      <th>0.75</th>\n",
       "      <td>24.1275</td>\n",
       "      <td>3.5625</td>\n",
       "      <td>3.0</td>\n",
       "    </tr>\n",
       "    <tr>\n",
       "      <th>0.25</th>\n",
       "      <td>13.3475</td>\n",
       "      <td>2.0000</td>\n",
       "      <td>2.0</td>\n",
       "    </tr>\n",
       "  </tbody>\n",
       "</table>\n",
       "</div>"
      ],
      "text/plain": [
       "      total_bill     tip  size\n",
       "0.75     24.1275  3.5625   3.0\n",
       "0.25     13.3475  2.0000   2.0"
      ]
     },
     "execution_count": 30,
     "metadata": {},
     "output_type": "execute_result"
    }
   ],
   "source": [
    "q\n"
   ]
  },
  {
   "cell_type": "code",
   "execution_count": 31,
   "id": "544f1ce5",
   "metadata": {},
   "outputs": [
    {
     "data": {
      "text/plain": [
       "total_bill    24.1275\n",
       "tip            3.5625\n",
       "size           3.0000\n",
       "Name: 0.75, dtype: float64"
      ]
     },
     "execution_count": 31,
     "metadata": {},
     "output_type": "execute_result"
    }
   ],
   "source": [
    "q.iloc[0]"
   ]
  },
  {
   "cell_type": "code",
   "execution_count": 32,
   "id": "bdb2807b",
   "metadata": {},
   "outputs": [
    {
     "data": {
      "text/plain": [
       "total_bill    13.3475\n",
       "tip            2.0000\n",
       "size           2.0000\n",
       "Name: 0.25, dtype: float64"
      ]
     },
     "execution_count": 32,
     "metadata": {},
     "output_type": "execute_result"
    }
   ],
   "source": [
    "q.iloc[1]"
   ]
  },
  {
   "cell_type": "code",
   "execution_count": 33,
   "id": "0b820f65",
   "metadata": {},
   "outputs": [],
   "source": [
    "iqr  = q.iloc[0] - q.iloc[1]"
   ]
  },
  {
   "cell_type": "code",
   "execution_count": 34,
   "id": "6d9895f8",
   "metadata": {},
   "outputs": [
    {
     "data": {
      "text/plain": [
       "total_bill    10.7800\n",
       "tip            1.5625\n",
       "size           1.0000\n",
       "dtype: float64"
      ]
     },
     "execution_count": 34,
     "metadata": {},
     "output_type": "execute_result"
    }
   ],
   "source": [
    "iqr"
   ]
  },
  {
   "cell_type": "code",
   "execution_count": 35,
   "id": "0d4f068b",
   "metadata": {},
   "outputs": [],
   "source": [
    "u =   q.iloc[0] + 1.5 * iqr #q3 + 1.5 * iqr"
   ]
  },
  {
   "cell_type": "code",
   "execution_count": 36,
   "id": "839460db",
   "metadata": {},
   "outputs": [
    {
     "data": {
      "text/plain": [
       "total_bill    40.29750\n",
       "tip            5.90625\n",
       "size           4.50000\n",
       "dtype: float64"
      ]
     },
     "execution_count": 36,
     "metadata": {},
     "output_type": "execute_result"
    }
   ],
   "source": [
    "u"
   ]
  },
  {
   "cell_type": "code",
   "execution_count": null,
   "id": "9422a8c9",
   "metadata": {},
   "outputs": [],
   "source": [
    "q."
   ]
  },
  {
   "cell_type": "code",
   "execution_count": 41,
   "id": "dfddeeab",
   "metadata": {},
   "outputs": [],
   "source": [
    " l = q.iloc[1] - 1.5 * iqr  #q1 - 1.5 * iqr"
   ]
  },
  {
   "cell_type": "code",
   "execution_count": 42,
   "id": "24dbd561",
   "metadata": {},
   "outputs": [
    {
     "data": {
      "text/plain": [
       "total_bill   -2.82250\n",
       "tip          -0.34375\n",
       "size          0.50000\n",
       "dtype: float64"
      ]
     },
     "execution_count": 42,
     "metadata": {},
     "output_type": "execute_result"
    }
   ],
   "source": [
    "l"
   ]
  },
  {
   "cell_type": "markdown",
   "id": "c39a0d90",
   "metadata": {},
   "source": [
    "## populationa and sample"
   ]
  },
  {
   "cell_type": "code",
   "execution_count": 43,
   "id": "bd752190",
   "metadata": {},
   "outputs": [],
   "source": [
    "N = 10000\n",
    "mu = 10\n",
    "std = 2 "
   ]
  },
  {
   "cell_type": "code",
   "execution_count": 45,
   "id": "591f203c",
   "metadata": {},
   "outputs": [],
   "source": [
    "pop = np.random.normal(mu,std,N)"
   ]
  },
  {
   "cell_type": "code",
   "execution_count": 46,
   "id": "c5b5da64",
   "metadata": {},
   "outputs": [
    {
     "data": {
      "text/plain": [
       "array([ 8.80128877,  9.321512  ,  9.83832574, ...,  9.68489788,\n",
       "       14.25869978, 12.01654226])"
      ]
     },
     "execution_count": 46,
     "metadata": {},
     "output_type": "execute_result"
    }
   ],
   "source": [
    "pop"
   ]
  },
  {
   "cell_type": "code",
   "execution_count": 47,
   "id": "b57c6083",
   "metadata": {},
   "outputs": [
    {
     "data": {
      "text/plain": [
       "(10000,)"
      ]
     },
     "execution_count": 47,
     "metadata": {},
     "output_type": "execute_result"
    }
   ],
   "source": [
    "pop.shape"
   ]
  },
  {
   "cell_type": "code",
   "execution_count": 48,
   "id": "40db4658",
   "metadata": {},
   "outputs": [
    {
     "name": "stderr",
     "output_type": "stream",
     "text": [
      "C:\\Users\\HP\\anaconda3\\lib\\site-packages\\seaborn\\distributions.py:2619: FutureWarning: `distplot` is a deprecated function and will be removed in a future version. Please adapt your code to use either `displot` (a figure-level function with similar flexibility) or `histplot` (an axes-level function for histograms).\n",
      "  warnings.warn(msg, FutureWarning)\n"
     ]
    },
    {
     "data": {
      "text/plain": [
       "<AxesSubplot:ylabel='Density'>"
      ]
     },
     "execution_count": 48,
     "metadata": {},
     "output_type": "execute_result"
    },
    {
     "data": {
      "image/png": "[encoded data removed]",
      "text/plain": [
       "<Figure size 432x288 with 1 Axes>"
      ]
     },
     "metadata": {
      "needs_background": "light"
     },
     "output_type": "display_data"
    }
   ],
   "source": [
    "sns.distplot(pop)"
   ]
  },
  {
   "cell_type": "code",
   "execution_count": 49,
   "id": "e92c598b",
   "metadata": {},
   "outputs": [],
   "source": [
    "sam = np.random.choice(pop, size = 100)"
   ]
  },
  {
   "cell_type": "code",
   "execution_count": 50,
   "id": "cf5c4b3d",
   "metadata": {},
   "outputs": [
    {
     "data": {
      "text/plain": [
       "array([11.94415189,  9.23649861,  9.84790325,  9.42763621, 11.70433698,\n",
       "       11.8261536 , 14.28557833, 11.37307093, 10.10007262,  8.81916744,\n",
       "        9.29997591,  8.49320383, 10.95259308,  9.24005159, 12.73150167,\n",
       "       11.05151438,  9.83985485,  9.81956084,  9.72158034,  7.89905901,\n",
       "       12.65217404,  7.87054913, 10.80006775, 10.76472917, 15.04437608,\n",
       "        8.52270964,  9.50416084,  7.27217418, 12.03030269,  8.7006994 ,\n",
       "        6.89599654,  9.75398472, 11.38457164,  8.56672579,  8.05798206,\n",
       "        8.84880354,  9.00202144,  9.44978512,  5.90044177,  6.09382091,\n",
       "       10.64469274,  7.64483405, 14.50492587, 11.55171613, 11.24713642,\n",
       "       10.63186491,  7.65278444,  9.14285752,  9.98850272,  7.24163827,\n",
       "       11.86402046,  9.24695367,  7.59202572, 10.0568199 ,  7.54296132,\n",
       "       11.29154662,  9.53545184, 11.31914007,  8.84585572, 11.63827211,\n",
       "        8.78993868,  8.84585572,  7.7229934 ,  9.70693826,  9.90482318,\n",
       "        8.60798682,  7.40952019, 11.94728108,  9.80668964, 12.45662661,\n",
       "        8.05307761,  6.42773789,  4.0812224 , 11.72050803,  9.55867873,\n",
       "        7.48094311,  8.50429208,  6.59687201, 13.87238861,  7.68868718,\n",
       "       14.78904848,  8.77566741, 11.7807414 ,  7.2455135 , 11.83258821,\n",
       "        8.83987115,  7.40434144,  9.14536686,  9.34410523, 11.34904634,\n",
       "        9.34285405,  8.80718255,  8.53246905, 11.2587177 , 10.61992281,\n",
       "       11.49901169,  6.1251867 ,  7.17813981,  7.47470131,  9.30644844])"
      ]
     },
     "execution_count": 50,
     "metadata": {},
     "output_type": "execute_result"
    }
   ],
   "source": [
    "sam"
   ]
  },
  {
   "cell_type": "code",
   "execution_count": 51,
   "id": "a1b373dd",
   "metadata": {},
   "outputs": [
    {
     "data": {
      "text/plain": [
       "(100,)"
      ]
     },
     "execution_count": 51,
     "metadata": {},
     "output_type": "execute_result"
    }
   ],
   "source": [
    "sam.shape"
   ]
  },
  {
   "cell_type": "code",
   "execution_count": 53,
   "id": "e46149bf",
   "metadata": {},
   "outputs": [
    {
     "data": {
      "text/plain": [
       "<AxesSubplot:ylabel='Density'>"
      ]
     },
     "execution_count": 53,
     "metadata": {},
     "output_type": "execute_result"
    },
    {
     "data": {
      "image/png": "[encoded data removed]",
      "text/plain": [
       "<Figure size 432x288 with 1 Axes>"
      ]
     },
     "metadata": {
      "needs_background": "light"
     },
     "output_type": "display_data"
    }
   ],
   "source": [
    "sns.distplot(sam)"
   ]
  },
  {
   "cell_type": "markdown",
   "id": "3c56f3c1",
   "metadata": {},
   "source": [
    "## measuire of dispersion"
   ]
  },
  {
   "cell_type": "code",
   "execution_count": 54,
   "id": "f10eac86",
   "metadata": {},
   "outputs": [
    {
     "name": "stderr",
     "output_type": "stream",
     "text": [
      "C:\\Users\\HP\\AppData\\Local\\Temp\\ipykernel_32\\1568254755.py:1: FutureWarning: Dropping of nuisance columns in DataFrame reductions (with 'numeric_only=None') is deprecated; in a future version this will raise TypeError.  Select only valid columns before calling the reduction.\n",
      "  df.var()\n"
     ]
    },
    {
     "data": {
      "text/plain": [
       "total_bill    79.252939\n",
       "tip            1.914455\n",
       "size           0.904591\n",
       "dtype: float64"
      ]
     },
     "execution_count": 54,
     "metadata": {},
     "output_type": "execute_result"
    }
   ],
   "source": [
    "df.var()"
   ]
  },
  {
   "cell_type": "code",
   "execution_count": 55,
   "id": "1b21d6ed",
   "metadata": {},
   "outputs": [
    {
     "name": "stderr",
     "output_type": "stream",
     "text": [
      "C:\\Users\\HP\\AppData\\Local\\Temp\\ipykernel_32\\3390915376.py:1: FutureWarning: Dropping of nuisance columns in DataFrame reductions (with 'numeric_only=None') is deprecated; in a future version this will raise TypeError.  Select only valid columns before calling the reduction.\n",
      "  df.std()\n"
     ]
    },
    {
     "data": {
      "text/plain": [
       "total_bill    8.902412\n",
       "tip           1.383638\n",
       "size          0.951100\n",
       "dtype: float64"
      ]
     },
     "execution_count": 55,
     "metadata": {},
     "output_type": "execute_result"
    }
   ],
   "source": [
    "df.std()"
   ]
  },
  {
   "cell_type": "code",
   "execution_count": 56,
   "id": "cddacf75",
   "metadata": {},
   "outputs": [
    {
     "data": {
      "text/html": [
       "<div>\n",
       "<style scoped>\n",
       "    .dataframe tbody tr th:only-of-type {\n",
       "        vertical-align: middle;\n",
       "    }\n",
       "\n",
       "    .dataframe tbody tr th {\n",
       "        vertical-align: top;\n",
       "    }\n",
       "\n",
       "    .dataframe thead th {\n",
       "        text-align: right;\n",
       "    }\n",
       "</style>\n",
       "<table border=\"1\" class=\"dataframe\">\n",
       "  <thead>\n",
       "    <tr style=\"text-align: right;\">\n",
       "      <th></th>\n",
       "      <th>total_bill</th>\n",
       "      <th>tip</th>\n",
       "      <th>sex</th>\n",
       "      <th>smoker</th>\n",
       "      <th>day</th>\n",
       "      <th>time</th>\n",
       "      <th>size</th>\n",
       "    </tr>\n",
       "  </thead>\n",
       "  <tbody>\n",
       "    <tr>\n",
       "      <th>0</th>\n",
       "      <td>16.99</td>\n",
       "      <td>1.01</td>\n",
       "      <td>Female</td>\n",
       "      <td>No</td>\n",
       "      <td>Sun</td>\n",
       "      <td>Dinner</td>\n",
       "      <td>2</td>\n",
       "    </tr>\n",
       "    <tr>\n",
       "      <th>1</th>\n",
       "      <td>10.34</td>\n",
       "      <td>1.66</td>\n",
       "      <td>Male</td>\n",
       "      <td>No</td>\n",
       "      <td>Sun</td>\n",
       "      <td>Dinner</td>\n",
       "      <td>3</td>\n",
       "    </tr>\n",
       "    <tr>\n",
       "      <th>2</th>\n",
       "      <td>21.01</td>\n",
       "      <td>3.50</td>\n",
       "      <td>Male</td>\n",
       "      <td>No</td>\n",
       "      <td>Sun</td>\n",
       "      <td>Dinner</td>\n",
       "      <td>3</td>\n",
       "    </tr>\n",
       "    <tr>\n",
       "      <th>3</th>\n",
       "      <td>23.68</td>\n",
       "      <td>3.31</td>\n",
       "      <td>Male</td>\n",
       "      <td>No</td>\n",
       "      <td>Sun</td>\n",
       "      <td>Dinner</td>\n",
       "      <td>2</td>\n",
       "    </tr>\n",
       "    <tr>\n",
       "      <th>4</th>\n",
       "      <td>24.59</td>\n",
       "      <td>3.61</td>\n",
       "      <td>Female</td>\n",
       "      <td>No</td>\n",
       "      <td>Sun</td>\n",
       "      <td>Dinner</td>\n",
       "      <td>4</td>\n",
       "    </tr>\n",
       "  </tbody>\n",
       "</table>\n",
       "</div>"
      ],
      "text/plain": [
       "   total_bill   tip     sex smoker  day    time  size\n",
       "0       16.99  1.01  Female     No  Sun  Dinner     2\n",
       "1       10.34  1.66    Male     No  Sun  Dinner     3\n",
       "2       21.01  3.50    Male     No  Sun  Dinner     3\n",
       "3       23.68  3.31    Male     No  Sun  Dinner     2\n",
       "4       24.59  3.61  Female     No  Sun  Dinner     4"
      ]
     },
     "execution_count": 56,
     "metadata": {},
     "output_type": "execute_result"
    }
   ],
   "source": [
    "df.head()"
   ]
  },
  {
   "cell_type": "markdown",
   "id": "7222e2c6",
   "metadata": {},
   "source": [
    "## scaling"
   ]
  },
  {
   "cell_type": "code",
   "execution_count": 59,
   "id": "5128d469",
   "metadata": {},
   "outputs": [],
   "source": [
    "x = df[['total_bill','size']]"
   ]
  },
  {
   "cell_type": "code",
   "execution_count": 60,
   "id": "1d2551cb",
   "metadata": {},
   "outputs": [
    {
     "data": {
      "text/html": [
       "<div>\n",
       "<style scoped>\n",
       "    .dataframe tbody tr th:only-of-type {\n",
       "        vertical-align: middle;\n",
       "    }\n",
       "\n",
       "    .dataframe tbody tr th {\n",
       "        vertical-align: top;\n",
       "    }\n",
       "\n",
       "    .dataframe thead th {\n",
       "        text-align: right;\n",
       "    }\n",
       "</style>\n",
       "<table border=\"1\" class=\"dataframe\">\n",
       "  <thead>\n",
       "    <tr style=\"text-align: right;\">\n",
       "      <th></th>\n",
       "      <th>total_bill</th>\n",
       "      <th>size</th>\n",
       "    </tr>\n",
       "  </thead>\n",
       "  <tbody>\n",
       "    <tr>\n",
       "      <th>0</th>\n",
       "      <td>16.99</td>\n",
       "      <td>2</td>\n",
       "    </tr>\n",
       "    <tr>\n",
       "      <th>1</th>\n",
       "      <td>10.34</td>\n",
       "      <td>3</td>\n",
       "    </tr>\n",
       "    <tr>\n",
       "      <th>2</th>\n",
       "      <td>21.01</td>\n",
       "      <td>3</td>\n",
       "    </tr>\n",
       "    <tr>\n",
       "      <th>3</th>\n",
       "      <td>23.68</td>\n",
       "      <td>2</td>\n",
       "    </tr>\n",
       "    <tr>\n",
       "      <th>4</th>\n",
       "      <td>24.59</td>\n",
       "      <td>4</td>\n",
       "    </tr>\n",
       "    <tr>\n",
       "      <th>...</th>\n",
       "      <td>...</td>\n",
       "      <td>...</td>\n",
       "    </tr>\n",
       "    <tr>\n",
       "      <th>239</th>\n",
       "      <td>29.03</td>\n",
       "      <td>3</td>\n",
       "    </tr>\n",
       "    <tr>\n",
       "      <th>240</th>\n",
       "      <td>27.18</td>\n",
       "      <td>2</td>\n",
       "    </tr>\n",
       "    <tr>\n",
       "      <th>241</th>\n",
       "      <td>22.67</td>\n",
       "      <td>2</td>\n",
       "    </tr>\n",
       "    <tr>\n",
       "      <th>242</th>\n",
       "      <td>17.82</td>\n",
       "      <td>2</td>\n",
       "    </tr>\n",
       "    <tr>\n",
       "      <th>243</th>\n",
       "      <td>18.78</td>\n",
       "      <td>2</td>\n",
       "    </tr>\n",
       "  </tbody>\n",
       "</table>\n",
       "<p>244 rows × 2 columns</p>\n",
       "</div>"
      ],
      "text/plain": [
       "     total_bill  size\n",
       "0         16.99     2\n",
       "1         10.34     3\n",
       "2         21.01     3\n",
       "3         23.68     2\n",
       "4         24.59     4\n",
       "..          ...   ...\n",
       "239       29.03     3\n",
       "240       27.18     2\n",
       "241       22.67     2\n",
       "242       17.82     2\n",
       "243       18.78     2\n",
       "\n",
       "[244 rows x 2 columns]"
      ]
     },
     "execution_count": 60,
     "metadata": {},
     "output_type": "execute_result"
    }
   ],
   "source": [
    "x"
   ]
  },
  {
   "cell_type": "code",
   "execution_count": 61,
   "id": "007b9976",
   "metadata": {},
   "outputs": [],
   "source": [
    "import sklearn\n",
    "from sklearn.preprocessing import MinMaxScaler\n",
    "mm = MinMaxScaler()\n",
    "x_scaled = mm.fit_transform(x)"
   ]
  },
  {
   "cell_type": "code",
   "execution_count": 62,
   "id": "0e9a57ff",
   "metadata": {},
   "outputs": [
    {
     "data": {
      "text/plain": [
       "array([[0.29157939, 0.2       ],\n",
       "       [0.1522832 , 0.4       ],\n",
       "       [0.3757855 , 0.4       ],\n",
       "       [0.43171345, 0.2       ],\n",
       "       [0.45077503, 0.6       ],\n",
       "       [0.46543779, 0.6       ],\n",
       "       [0.11939673, 0.2       ],\n",
       "       [0.49874319, 0.6       ],\n",
       "       [0.25073314, 0.2       ],\n",
       "       [0.24528697, 0.2       ],\n",
       "       [0.15081693, 0.2       ],\n",
       "       [0.67427734, 0.6       ],\n",
       "       [0.25869292, 0.2       ],\n",
       "       [0.32174277, 0.6       ],\n",
       "       [0.24633431, 0.2       ],\n",
       "       [0.38772518, 0.2       ],\n",
       "       [0.15207373, 0.4       ],\n",
       "       [0.27691663, 0.4       ],\n",
       "       [0.29116045, 0.4       ],\n",
       "       [0.36824466, 0.4       ],\n",
       "       [0.31105991, 0.2       ],\n",
       "       [0.36070381, 0.2       ],\n",
       "       [0.2660243 , 0.2       ],\n",
       "       [0.761416  , 0.6       ],\n",
       "       [0.35085882, 0.2       ],\n",
       "       [0.30875576, 0.6       ],\n",
       "       [0.21575199, 0.2       ],\n",
       "       [0.20150817, 0.2       ],\n",
       "       [0.39023879, 0.2       ],\n",
       "       [0.34729786, 0.2       ],\n",
       "       [0.13573523, 0.2       ],\n",
       "       [0.32006703, 0.6       ],\n",
       "       [0.25115207, 0.2       ],\n",
       "       [0.36908253, 0.6       ],\n",
       "       [0.30812736, 0.2       ],\n",
       "       [0.43967323, 0.4       ],\n",
       "       [0.27733557, 0.4       ],\n",
       "       [0.29032258, 0.4       ],\n",
       "       [0.32718894, 0.4       ],\n",
       "       [0.59069962, 0.4       ],\n",
       "       [0.27167993, 0.4       ],\n",
       "       [0.30142438, 0.2       ],\n",
       "       [0.22769166, 0.2       ],\n",
       "       [0.13845832, 0.2       ],\n",
       "       [0.57247591, 0.6       ],\n",
       "       [0.31881022, 0.2       ],\n",
       "       [0.40134059, 0.2       ],\n",
       "       [0.6143695 , 0.6       ],\n",
       "       [0.53372434, 0.4       ],\n",
       "       [0.31357352, 0.2       ],\n",
       "       [0.19836615, 0.2       ],\n",
       "       [0.15123586, 0.2       ],\n",
       "       [0.66485128, 0.6       ],\n",
       "       [0.14390448, 0.2       ],\n",
       "       [0.47109342, 0.6       ],\n",
       "       [0.34394638, 0.2       ],\n",
       "       [0.73188102, 0.6       ],\n",
       "       [0.4888982 , 0.2       ],\n",
       "       [0.17113532, 0.2       ],\n",
       "       [0.94679514, 0.6       ],\n",
       "       [0.36070381, 0.2       ],\n",
       "       [0.22496858, 0.2       ],\n",
       "       [0.16652702, 0.2       ],\n",
       "       [0.31881022, 0.6       ],\n",
       "       [0.30414747, 0.4       ],\n",
       "       [0.35630499, 0.4       ],\n",
       "       [0.28026812, 0.2       ],\n",
       "       [0.        , 0.        ],\n",
       "       [0.359447  , 0.2       ],\n",
       "       [0.25010473, 0.2       ],\n",
       "       [0.18747382, 0.2       ],\n",
       "       [0.29325513, 0.4       ],\n",
       "       [0.49832426, 0.2       ],\n",
       "       [0.46522832, 0.2       ],\n",
       "       [0.24423963, 0.2       ],\n",
       "       [0.15584416, 0.2       ],\n",
       "       [0.31105991, 0.2       ],\n",
       "       [0.50544617, 0.6       ],\n",
       "       [0.4124424 , 0.2       ],\n",
       "       [0.29786343, 0.2       ],\n",
       "       [0.34289904, 0.2       ],\n",
       "       [0.28466695, 0.2       ],\n",
       "       [0.14662757, 0.        ],\n",
       "       [0.6202346 , 0.2       ],\n",
       "       [0.27042313, 0.2       ],\n",
       "       [0.66527021, 0.6       ],\n",
       "       [0.20863008, 0.2       ],\n",
       "       [0.31860075, 0.2       ],\n",
       "       [0.45328865, 0.2       ],\n",
       "       [0.37892752, 0.2       ],\n",
       "       [0.54252199, 0.2       ],\n",
       "       [0.40678676, 0.2       ],\n",
       "       [0.05613741, 0.2       ],\n",
       "       [0.27754504, 0.2       ],\n",
       "       [0.41223293, 0.2       ],\n",
       "       [0.7771261 , 0.6       ],\n",
       "       [0.50712191, 0.2       ],\n",
       "       [0.18768328, 0.2       ],\n",
       "       [0.3757855 , 0.2       ],\n",
       "       [0.19669041, 0.2       ],\n",
       "       [0.17343946, 0.2       ],\n",
       "       [0.25785505, 0.2       ],\n",
       "       [0.86363636, 0.4       ],\n",
       "       [0.40532049, 0.2       ],\n",
       "       [0.37390029, 0.2       ],\n",
       "       [0.25743611, 0.2       ],\n",
       "       [0.36489317, 0.2       ],\n",
       "       [0.46376204, 0.2       ],\n",
       "       [0.31776288, 0.2       ],\n",
       "       [0.23544198, 0.2       ],\n",
       "       [0.22894847, 0.2       ],\n",
       "       [0.0875576 , 0.        ],\n",
       "       [0.73313783, 0.4       ],\n",
       "       [0.43736908, 0.2       ],\n",
       "       [0.47423544, 0.4       ],\n",
       "       [0.29828236, 0.2       ],\n",
       "       [0.56263092, 0.6       ],\n",
       "       [0.15877671, 0.2       ],\n",
       "       [0.196062  , 0.2       ],\n",
       "       [0.44009217, 0.6       ],\n",
       "       [0.18056137, 0.2       ],\n",
       "       [0.21679933, 0.2       ],\n",
       "       [0.23439464, 0.2       ],\n",
       "       [0.26979472, 0.2       ],\n",
       "       [0.19710934, 0.2       ],\n",
       "       [0.55990783, 1.        ],\n",
       "       [0.11416003, 0.2       ],\n",
       "       [0.2398408 , 0.2       ],\n",
       "       [0.17406787, 0.2       ],\n",
       "       [0.4136992 , 0.4       ],\n",
       "       [0.33535819, 0.2       ],\n",
       "       [0.36028488, 0.2       ],\n",
       "       [0.16966904, 0.2       ],\n",
       "       [0.19250105, 0.2       ],\n",
       "       [0.31818182, 0.2       ],\n",
       "       [0.11395057, 0.2       ],\n",
       "       [0.15207373, 0.2       ],\n",
       "       [0.23209049, 0.2       ],\n",
       "       [0.27084206, 0.2       ],\n",
       "       [0.21135316, 0.2       ],\n",
       "       [0.30163385, 0.2       ],\n",
       "       [0.65416841, 1.        ],\n",
       "       [0.79849183, 0.8       ],\n",
       "       [0.50230415, 1.        ],\n",
       "       [0.27984918, 0.2       ],\n",
       "       [0.11059908, 0.2       ],\n",
       "       [0.3261416 , 0.4       ],\n",
       "       [0.1843318 , 0.2       ],\n",
       "       [0.140553  , 0.2       ],\n",
       "       [0.09300377, 0.2       ],\n",
       "       [0.23041475, 0.2       ],\n",
       "       [0.21072476, 0.2       ],\n",
       "       [0.29723502, 0.4       ],\n",
       "       [0.44993716, 0.6       ],\n",
       "       [0.34981148, 0.6       ],\n",
       "       [0.56095517, 0.8       ],\n",
       "       [0.94470046, 1.        ],\n",
       "       [0.45936322, 0.6       ],\n",
       "       [0.21617093, 0.2       ],\n",
       "       [0.28110599, 0.6       ],\n",
       "       [0.38604943, 0.6       ],\n",
       "       [0.20087977, 0.2       ],\n",
       "       [0.27524089, 0.4       ],\n",
       "       [0.22496858, 0.2       ],\n",
       "       [0.30247172, 0.2       ],\n",
       "       [0.44930876, 0.4       ],\n",
       "       [0.37054881, 0.2       ],\n",
       "       [0.59991621, 0.6       ],\n",
       "       [0.1575199 , 0.2       ],\n",
       "       [0.15835777, 0.2       ],\n",
       "       [1.        , 0.4       ],\n",
       "       [0.26686217, 0.2       ],\n",
       "       [0.0875576 , 0.2       ],\n",
       "       [0.60284876, 0.2       ],\n",
       "       [0.28801843, 0.2       ],\n",
       "       [0.6248429 , 0.2       ],\n",
       "       [0.3104315 , 0.2       ],\n",
       "       [0.23900293, 0.2       ],\n",
       "       [0.13678257, 0.2       ],\n",
       "       [0.66108085, 0.2       ],\n",
       "       [0.66149979, 0.6       ],\n",
       "       [0.42438207, 0.2       ],\n",
       "       [0.8856305 , 0.4       ],\n",
       "       [0.42103058, 0.6       ],\n",
       "       [0.78508588, 0.2       ],\n",
       "       [0.36908253, 0.8       ],\n",
       "       [0.37348136, 0.4       ],\n",
       "       [0.57373272, 0.8       ],\n",
       "       [0.31587767, 0.4       ],\n",
       "       [0.41956431, 0.4       ],\n",
       "       [0.26434855, 0.2       ],\n",
       "       [0.35064935, 0.2       ],\n",
       "       [0.53142019, 0.2       ],\n",
       "       [0.25994973, 0.2       ],\n",
       "       [0.2829912 , 0.2       ],\n",
       "       [0.09405111, 0.2       ],\n",
       "       [0.1522832 , 0.2       ],\n",
       "       [0.83870968, 0.6       ],\n",
       "       [0.20800168, 0.2       ],\n",
       "       [0.21868454, 0.2       ],\n",
       "       [0.32760788, 0.4       ],\n",
       "       [0.20255551, 0.2       ],\n",
       "       [0.20800168, 0.2       ],\n",
       "       [0.27922078, 0.2       ],\n",
       "       [0.36573104, 0.6       ],\n",
       "       [0.28068705, 0.4       ],\n",
       "       [0.49266862, 0.4       ],\n",
       "       [0.74696271, 0.6       ],\n",
       "       [0.44407206, 0.2       ],\n",
       "       [0.20297444, 0.2       ],\n",
       "       [0.565354  , 0.4       ],\n",
       "       [0.47800587, 0.6       ],\n",
       "       [0.94805195, 0.6       ],\n",
       "       [0.21365731, 0.2       ],\n",
       "       [0.52576456, 0.4       ],\n",
       "       [0.205907  , 0.2       ],\n",
       "       [0.52534562, 0.8       ],\n",
       "       [0.17846669, 0.2       ],\n",
       "       [0.09782153, 0.2       ],\n",
       "       [0.56702974, 0.6       ],\n",
       "       [0.19040637, 0.2       ],\n",
       "       [0.21679933, 0.2       ],\n",
       "       [0.11541684, 0.        ],\n",
       "       [0.27042313, 0.4       ],\n",
       "       [0.21679933, 0.2       ],\n",
       "       [0.2764977 , 0.2       ],\n",
       "       [0.1470465 , 0.2       ],\n",
       "       [0.3640553 , 0.6       ],\n",
       "       [0.21386678, 0.2       ],\n",
       "       [0.39903645, 0.2       ],\n",
       "       [0.43862589, 0.6       ],\n",
       "       [0.26434855, 0.4       ],\n",
       "       [0.17888563, 0.2       ],\n",
       "       [0.16129032, 0.2       ],\n",
       "       [0.26099707, 0.2       ],\n",
       "       [0.14662757, 0.2       ],\n",
       "       [0.19962296, 0.2       ],\n",
       "       [0.62337662, 0.2       ],\n",
       "       [0.68621701, 0.4       ],\n",
       "       [0.5437788 , 0.4       ],\n",
       "       [0.50502723, 0.2       ],\n",
       "       [0.41055718, 0.2       ],\n",
       "       [0.30896523, 0.2       ],\n",
       "       [0.32907415, 0.2       ]])"
      ]
     },
     "execution_count": 62,
     "metadata": {},
     "output_type": "execute_result"
    }
   ],
   "source": [
    "x_scaled"
   ]
  },
  {
   "cell_type": "code",
   "execution_count": 63,
   "id": "59c7acec",
   "metadata": {},
   "outputs": [],
   "source": [
    "from sklearn.preprocessing import StandardScaler\n",
    "sc =  StandardScaler()\n",
    "x_ss = sc.fit_transform(x)"
   ]
  },
  {
   "cell_type": "code",
   "execution_count": 64,
   "id": "f5f099f3",
   "metadata": {},
   "outputs": [
    {
     "data": {
      "text/plain": [
       "array([[-3.14711305e-01, -6.00192629e-01],\n",
       "       [-1.06323531e+00,  4.53382921e-01],\n",
       "       [ 1.37779900e-01,  4.53382921e-01],\n",
       "       [ 4.38315103e-01, -6.00192629e-01],\n",
       "       [ 5.40744704e-01,  1.50695847e+00],\n",
       "       [ 6.19536705e-01,  1.50695847e+00],\n",
       "       [-1.23995452e+00, -6.00192629e-01],\n",
       "       [ 7.98507107e-01,  1.50695847e+00],\n",
       "       [-5.34203307e-01, -6.00192629e-01],\n",
       "       [-5.63468908e-01, -6.00192629e-01],\n",
       "       [-1.07111451e+00, -6.00192629e-01],\n",
       "       [ 1.74175992e+00,  1.50695847e+00],\n",
       "       [-4.91430507e-01, -6.00192629e-01],\n",
       "       [-1.52624903e-01,  1.50695847e+00],\n",
       "       [-5.57840908e-01, -6.00192629e-01],\n",
       "       [ 2.01939101e-01, -6.00192629e-01],\n",
       "       [-1.06436091e+00,  4.53382921e-01],\n",
       "       [-3.93503306e-01,  4.53382921e-01],\n",
       "       [-3.16962505e-01,  4.53382921e-01],\n",
       "       [ 9.72582994e-02,  4.53382921e-01],\n",
       "       [-2.10030504e-01, -6.00192629e-01],\n",
       "       [ 5.67366990e-02, -6.00192629e-01],\n",
       "       [-4.52034507e-01, -6.00192629e-01],\n",
       "       [ 2.21000952e+00,  1.50695847e+00],\n",
       "       [ 3.83349840e-03, -6.00192629e-01],\n",
       "       [-2.22412104e-01,  1.50695847e+00],\n",
       "       [-7.22178510e-01, -6.00192629e-01],\n",
       "       [-7.98719310e-01, -6.00192629e-01],\n",
       "       [ 2.15446301e-01, -6.00192629e-01],\n",
       "       [-1.53017018e-02, -6.00192629e-01],\n",
       "       [-1.15215771e+00, -6.00192629e-01],\n",
       "       [-1.61629703e-01,  1.50695847e+00],\n",
       "       [-5.31952107e-01, -6.00192629e-01],\n",
       "       [ 1.01760699e-01,  1.50695847e+00],\n",
       "       [-2.25788904e-01, -6.00192629e-01],\n",
       "       [ 4.81087904e-01,  4.53382921e-01],\n",
       "       [-3.91252106e-01,  4.53382921e-01],\n",
       "       [-3.21464905e-01,  4.53382921e-01],\n",
       "       [-1.23359303e-01,  4.53382921e-01],\n",
       "       [ 1.29264551e+00,  4.53382921e-01],\n",
       "       [-4.21643306e-01,  4.53382921e-01],\n",
       "       [-2.61808105e-01, -6.00192629e-01],\n",
       "       [-6.58019309e-01, -6.00192629e-01],\n",
       "       [-1.13752491e+00, -6.00192629e-01],\n",
       "       [ 1.19471831e+00,  1.50695847e+00],\n",
       "       [-1.68383303e-01, -6.00192629e-01],\n",
       "       [ 2.75103101e-01, -6.00192629e-01],\n",
       "       [ 1.41983831e+00,  1.50695847e+00],\n",
       "       [ 9.86482309e-01,  4.53382921e-01],\n",
       "       [-1.96523304e-01, -6.00192629e-01],\n",
       "       [-8.15603311e-01, -6.00192629e-01],\n",
       "       [-1.06886331e+00, -6.00192629e-01],\n",
       "       [ 1.69110792e+00,  1.50695847e+00],\n",
       "       [-1.10825931e+00, -6.00192629e-01],\n",
       "       [ 6.49927905e-01,  1.50695847e+00],\n",
       "       [-3.33113020e-02, -6.00192629e-01],\n",
       "       [ 2.05129992e+00,  1.50695847e+00],\n",
       "       [ 7.45603907e-01, -6.00192629e-01],\n",
       "       [-9.61931312e-01, -6.00192629e-01],\n",
       "       [ 3.20616553e+00,  1.50695847e+00],\n",
       "       [ 5.67366990e-02, -6.00192629e-01],\n",
       "       [-6.72652109e-01, -6.00192629e-01],\n",
       "       [-9.86694512e-01, -6.00192629e-01],\n",
       "       [-1.68383303e-01,  1.50695847e+00],\n",
       "       [-2.47175304e-01,  4.53382921e-01],\n",
       "       [ 3.30990987e-02,  4.53382921e-01],\n",
       "       [-3.75493706e-01, -6.00192629e-01],\n",
       "       [-1.88154652e+00, -1.65376818e+00],\n",
       "       [ 4.99830989e-02, -6.00192629e-01],\n",
       "       [-5.37580108e-01, -6.00192629e-01],\n",
       "       [-8.74134511e-01, -6.00192629e-01],\n",
       "       [-3.05706505e-01,  4.53382921e-01],\n",
       "       [ 7.96255907e-01, -6.00192629e-01],\n",
       "       [ 6.18411105e-01, -6.00192629e-01],\n",
       "       [-5.69096908e-01, -6.00192629e-01],\n",
       "       [-1.04410011e+00, -6.00192629e-01],\n",
       "       [-2.10030504e-01, -6.00192629e-01],\n",
       "       [ 8.34526308e-01,  1.50695847e+00],\n",
       "       [ 3.34759902e-01, -6.00192629e-01],\n",
       "       [-2.80943305e-01, -6.00192629e-01],\n",
       "       [-3.89393021e-02, -6.00192629e-01],\n",
       "       [-3.51856105e-01, -6.00192629e-01],\n",
       "       [-1.09362651e+00, -1.65376818e+00],\n",
       "       [ 1.45135511e+00, -6.00192629e-01],\n",
       "       [-4.28396906e-01, -6.00192629e-01],\n",
       "       [ 1.69335912e+00,  1.50695847e+00],\n",
       "       [-7.60448910e-01, -6.00192629e-01],\n",
       "       [-1.69508903e-01, -6.00192629e-01],\n",
       "       [ 5.54251904e-01, -6.00192629e-01],\n",
       "       [ 1.54663900e-01, -6.00192629e-01],\n",
       "       [ 1.03375751e+00, -6.00192629e-01],\n",
       "       [ 3.04368702e-01, -6.00192629e-01],\n",
       "       [-1.57988572e+00, -6.00192629e-01],\n",
       "       [-3.90126506e-01, -6.00192629e-01],\n",
       "       [ 3.33634302e-01, -6.00192629e-01],\n",
       "       [ 2.29442952e+00,  1.50695847e+00],\n",
       "       [ 8.43531108e-01, -6.00192629e-01],\n",
       "       [-8.73008911e-01, -6.00192629e-01],\n",
       "       [ 1.37779900e-01, -6.00192629e-01],\n",
       "       [-8.24608111e-01, -6.00192629e-01],\n",
       "       [-9.49549712e-01, -6.00192629e-01],\n",
       "       [-4.95932907e-01, -6.00192629e-01],\n",
       "       [ 2.75930233e+00,  4.53382921e-01],\n",
       "       [ 2.96489502e-01, -6.00192629e-01],\n",
       "       [ 1.27649500e-01, -6.00192629e-01],\n",
       "       [-4.98184107e-01, -6.00192629e-01],\n",
       "       [ 7.92486992e-02, -6.00192629e-01],\n",
       "       [ 6.10531905e-01, -6.00192629e-01],\n",
       "       [-1.74011304e-01, -6.00192629e-01],\n",
       "       [-6.16372108e-01, -6.00192629e-01],\n",
       "       [-6.51265709e-01, -6.00192629e-01],\n",
       "       [-1.41104572e+00, -1.65376818e+00],\n",
       "       [ 2.05805352e+00,  4.53382921e-01],\n",
       "       [ 4.68706304e-01, -6.00192629e-01],\n",
       "       [ 6.66811906e-01,  4.53382921e-01],\n",
       "       [-2.78692105e-01, -6.00192629e-01],\n",
       "       [ 1.14181511e+00,  1.50695847e+00],\n",
       "       [-1.02834171e+00, -6.00192629e-01],\n",
       "       [-8.27984911e-01, -6.00192629e-01],\n",
       "       [ 4.83339104e-01,  1.50695847e+00],\n",
       "       [-9.11279312e-01, -6.00192629e-01],\n",
       "       [-7.16550509e-01, -6.00192629e-01],\n",
       "       [-6.22000108e-01, -6.00192629e-01],\n",
       "       [-4.31773706e-01, -6.00192629e-01],\n",
       "       [-8.22356911e-01, -6.00192629e-01],\n",
       "       [ 1.12718231e+00,  3.61410957e+00],\n",
       "       [-1.26809452e+00, -6.00192629e-01],\n",
       "       [-5.92734508e-01, -6.00192629e-01],\n",
       "       [-9.46172912e-01, -6.00192629e-01],\n",
       "       [ 3.41513502e-01,  4.53382921e-01],\n",
       "       [-7.94609025e-02, -6.00192629e-01],\n",
       "       [ 5.44854990e-02, -6.00192629e-01],\n",
       "       [-9.69810512e-01, -6.00192629e-01],\n",
       "       [-8.47120111e-01, -6.00192629e-01],\n",
       "       [-1.71760104e-01, -6.00192629e-01],\n",
       "       [-1.26922012e+00, -6.00192629e-01],\n",
       "       [-1.06436091e+00, -6.00192629e-01],\n",
       "       [-6.34381709e-01, -6.00192629e-01],\n",
       "       [-4.26145706e-01, -6.00192629e-01],\n",
       "       [-7.45816110e-01, -6.00192629e-01],\n",
       "       [-2.60682504e-01, -6.00192629e-01],\n",
       "       [ 1.63370232e+00,  3.61410957e+00],\n",
       "       [ 2.40924072e+00,  2.56053402e+00],\n",
       "       [ 8.17642307e-01,  3.61410957e+00],\n",
       "       [-3.77744906e-01, -6.00192629e-01],\n",
       "       [-1.28722972e+00, -6.00192629e-01],\n",
       "       [-1.28987303e-01,  4.53382921e-01],\n",
       "       [-8.91018511e-01, -6.00192629e-01],\n",
       "       [-1.12626891e+00, -6.00192629e-01],\n",
       "       [-1.38178012e+00, -6.00192629e-01],\n",
       "       [-6.43386509e-01, -6.00192629e-01],\n",
       "       [-7.49192910e-01, -6.00192629e-01],\n",
       "       [-2.84320105e-01,  4.53382921e-01],\n",
       "       [ 5.36242304e-01,  1.50695847e+00],\n",
       "       [-1.79450166e-03,  1.50695847e+00],\n",
       "       [ 1.13281031e+00,  2.56053402e+00],\n",
       "       [ 3.19490953e+00,  3.61410957e+00],\n",
       "       [ 5.86894305e-01,  1.50695847e+00],\n",
       "       [-7.19927310e-01, -6.00192629e-01],\n",
       "       [-3.70991306e-01,  1.50695847e+00],\n",
       "       [ 1.92934300e-01,  1.50695847e+00],\n",
       "       [-8.02096110e-01, -6.00192629e-01],\n",
       "       [-4.02508106e-01,  4.53382921e-01],\n",
       "       [-6.72652109e-01, -6.00192629e-01],\n",
       "       [-2.56180104e-01, -6.00192629e-01],\n",
       "       [ 5.32865504e-01,  4.53382921e-01],\n",
       "       [ 1.09639900e-01, -6.00192629e-01],\n",
       "       [ 1.34217191e+00,  1.50695847e+00],\n",
       "       [-1.03509531e+00, -6.00192629e-01],\n",
       "       [-1.03059291e+00, -6.00192629e-01],\n",
       "       [ 3.49206794e+00,  4.53382921e-01],\n",
       "       [-4.47532107e-01, -6.00192629e-01],\n",
       "       [-1.41104572e+00, -6.00192629e-01],\n",
       "       [ 1.35793031e+00, -6.00192629e-01],\n",
       "       [-3.33846505e-01, -6.00192629e-01],\n",
       "       [ 1.47611831e+00, -6.00192629e-01],\n",
       "       [-2.13407304e-01, -6.00192629e-01],\n",
       "       [-5.97236908e-01, -6.00192629e-01],\n",
       "       [-1.14652971e+00, -6.00192629e-01],\n",
       "       [ 1.67084712e+00, -6.00192629e-01],\n",
       "       [ 1.67309832e+00,  1.50695847e+00],\n",
       "       [ 3.98919103e-01, -6.00192629e-01],\n",
       "       [ 2.87749033e+00,  4.53382921e-01],\n",
       "       [ 3.80909503e-01,  1.50695847e+00],\n",
       "       [ 2.33720232e+00, -6.00192629e-01],\n",
       "       [ 1.01760699e-01,  2.56053402e+00],\n",
       "       [ 1.25398300e-01,  4.53382921e-01],\n",
       "       [ 1.20147191e+00,  2.56053402e+00],\n",
       "       [-1.84141704e-01,  4.53382921e-01],\n",
       "       [ 3.73030302e-01,  4.53382921e-01],\n",
       "       [-4.61039307e-01, -6.00192629e-01],\n",
       "       [ 2.70789839e-03, -6.00192629e-01],\n",
       "       [ 9.74100709e-01, -6.00192629e-01],\n",
       "       [-4.84676907e-01, -6.00192629e-01],\n",
       "       [-3.60860906e-01, -6.00192629e-01],\n",
       "       [-1.37615212e+00, -6.00192629e-01],\n",
       "       [-1.06323531e+00, -6.00192629e-01],\n",
       "       [ 2.62535593e+00,  1.50695847e+00],\n",
       "       [-7.63825710e-01, -6.00192629e-01],\n",
       "       [-7.06420109e-01, -6.00192629e-01],\n",
       "       [-1.21108103e-01,  4.53382921e-01],\n",
       "       [-7.93091310e-01, -6.00192629e-01],\n",
       "       [-7.63825710e-01, -6.00192629e-01],\n",
       "       [-3.81121706e-01, -6.00192629e-01],\n",
       "       [ 8.37510993e-02,  1.50695847e+00],\n",
       "       [-3.73242506e-01,  4.53382921e-01],\n",
       "       [ 7.65864707e-01,  4.53382921e-01],\n",
       "       [ 2.13234312e+00,  1.50695847e+00],\n",
       "       [ 5.04725504e-01, -6.00192629e-01],\n",
       "       [-7.90840110e-01, -6.00192629e-01],\n",
       "       [ 1.15644791e+00,  4.53382921e-01],\n",
       "       [ 6.87072706e-01,  1.50695847e+00],\n",
       "       [ 3.21291913e+00,  1.50695847e+00],\n",
       "       [-7.33434510e-01, -6.00192629e-01],\n",
       "       [ 9.43709509e-01,  4.53382921e-01],\n",
       "       [-7.75081710e-01, -6.00192629e-01],\n",
       "       [ 9.41458309e-01,  2.56053402e+00],\n",
       "       [-9.22535312e-01, -6.00192629e-01],\n",
       "       [-1.35589132e+00, -6.00192629e-01],\n",
       "       [ 1.16545271e+00,  1.50695847e+00],\n",
       "       [-8.58376111e-01, -6.00192629e-01],\n",
       "       [-7.16550509e-01, -6.00192629e-01],\n",
       "       [-1.26134092e+00, -1.65376818e+00],\n",
       "       [-4.28396906e-01,  4.53382921e-01],\n",
       "       [-7.16550509e-01, -6.00192629e-01],\n",
       "       [-3.95754506e-01, -6.00192629e-01],\n",
       "       [-1.09137531e+00, -6.00192629e-01],\n",
       "       [ 7.47462992e-02,  1.50695847e+00],\n",
       "       [-7.32308910e-01, -6.00192629e-01],\n",
       "       [ 2.62721501e-01, -6.00192629e-01],\n",
       "       [ 4.75459904e-01,  1.50695847e+00],\n",
       "       [-4.61039307e-01,  4.53382921e-01],\n",
       "       [-9.20284112e-01, -6.00192629e-01],\n",
       "       [-1.01483451e+00, -6.00192629e-01],\n",
       "       [-4.79048907e-01, -6.00192629e-01],\n",
       "       [-1.09362651e+00, -6.00192629e-01],\n",
       "       [-8.08849711e-01, -6.00192629e-01],\n",
       "       [ 1.46823911e+00, -6.00192629e-01],\n",
       "       [ 1.80591912e+00,  4.53382921e-01],\n",
       "       [ 1.04051111e+00,  4.53382921e-01],\n",
       "       [ 8.32275107e-01, -6.00192629e-01],\n",
       "       [ 3.24629502e-01, -6.00192629e-01],\n",
       "       [-2.21286504e-01, -6.00192629e-01],\n",
       "       [-1.13228903e-01, -6.00192629e-01]])"
      ]
     },
     "execution_count": 64,
     "metadata": {},
     "output_type": "execute_result"
    }
   ],
   "source": [
    "x_ss"
   ]
  },
  {
   "cell_type": "code",
   "execution_count": null,
   "id": "174c39c3",
   "metadata": {},
   "outputs": [],
   "source": []
  }
 ],
 "metadata": {
  "kernelspec": {
   "display_name": "Python 3 (ipykernel)",
   "language": "python",
   "name": "python3"
  },
  "language_info": {
   "codemirror_mode": {
    "name": "ipython",
    "version": 3
   },
   "file_extension": ".py",
   "mimetype": "text/x-python",
   "name": "python",
   "nbconvert_exporter": "python",
   "pygments_lexer": "ipython3",
   "version": "3.9.12"
  }
 },
 "nbformat": 4,
 "nbformat_minor": 5
}
